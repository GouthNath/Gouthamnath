{
  "nbformat": 4,
  "nbformat_minor": 5,
  "metadata": {
    "kernelspec": {
      "display_name": "Python 3",
      "language": "python",
      "name": "python3"
    },
    "language_info": {
      "codemirror_mode": {
        "name": "ipython",
        "version": 3
      },
      "file_extension": ".py",
      "mimetype": "text/x-python",
      "name": "python",
      "nbconvert_exporter": "python",
      "pygments_lexer": "ipython3",
      "version": "3.9.2"
    },
    "colab": {
      "name": "Car Price Predictor.ipynb",
      "provenance": [],
      "include_colab_link": true
    }
  },
  "cells": [
    {
      "cell_type": "markdown",
      "metadata": {
        "id": "view-in-github",
        "colab_type": "text"
      },
      "source": [
        "<a href=\"https://colab.research.google.com/github/GouthNath/Gouthamnath/blob/main/Car_Price_Predictor.ipynb\" target=\"_parent\"><img src=\"https://colab.research.google.com/assets/colab-badge.svg\" alt=\"Open In Colab\"/></a>"
      ]
    },
    {
      "cell_type": "markdown",
      "metadata": {
        "id": "radical-surrey"
      },
      "source": [
        "# LINEAR REGRESSION"
      ],
      "id": "radical-surrey"
    },
    {
      "cell_type": "markdown",
      "metadata": {
        "id": "linear-produce"
      },
      "source": [
        "Regression is a method of modelling a target value based on independent predictors. This method is mostly used for forecasting and finding out cause and effect relationship between variables.\n",
        "\n",
        "<b>Linear Regression</b> is a supervised machine learning algorithm used to find the <b>linear relationship</b> between the input and the target variable(s). It is a statistical method that is used for predictive analysis and makes predictions for continuous/real or numeric variables. It predicts a dependent variable value (y) from a/many given independent variable(s) value(s) (X). \n",
        "\n",
        "A linear line showing the relationship between the dependent and independent variables is called a regression line. \n",
        "- If the dependent variable increases on the Y-axis and independent variable increases on X-axis, then such a relationship is termed as a <b>positive linear relationship</b>. \n",
        "- If the dependent variable decreases on the Y-axis and independent variable increases on the X-axis, then such a relationship is called a <b>negative linear relationship</b>.\n",
        "\n",
        "The regression line (i.e.), the line of best fit for the problem under consideration is mathematically represented as: \n",
        "<center><font size=\"5\">$y=mx+c$</center>\n",
        "where 'm' is the slope and c is the intercept"
      ],
      "id": "linear-produce"
    },
    {
      "cell_type": "markdown",
      "metadata": {
        "id": "bizarre-amateur"
      },
      "source": [
        "# CAR PRICE PREDICTOR"
      ],
      "id": "bizarre-amateur"
    },
    {
      "cell_type": "markdown",
      "metadata": {
        "id": "competent-republican"
      },
      "source": [
        "## Problem Statement:\n",
        "Use linear regression to predict the price of a used car that needs to be sold given the following parameters: \n",
        "- Name \n",
        "- Company\n",
        "- Year of purchase\n",
        "- Price\n",
        "- Number of kilometers driven \n",
        "- Fuel type\n",
        "\n",
        "## Attributes of the dataset:\n",
        "\n",
        "<b>name: </b>Specifies the model of the car<br>\n",
        "<b>company: </b>Specifies which company manufactures the car<br>\n",
        "<b>year: </b>Specifies the year in which the car was first purchased<br>\n",
        "<b>price: </b>Specifies the price at which the used car was sold<br>\n",
        "<b>km_driven: </b>Specifies the number of kilometers that the car has been driven for by the first owner<br>\n",
        "<b>fuel: </b>Specifies the fuel with which the car's engine is powered<br>\n",
        "\n",
        "Using these features, we need to predict the price of a used car through linear regression. So, the inputs to the model and desired output from the model are clear:\n",
        "\n",
        "<b>Inputs:</b> name, company, year, km_driven, fuel<br>\n",
        "<b>Output: </b> price<br>\n",
        "\n",
        "Below is the code to implement linear regression for this problem."
      ],
      "id": "competent-republican"
    },
    {
      "cell_type": "markdown",
      "metadata": {
        "id": "atlantic-shoot"
      },
      "source": [
        "## Import Libraries\n",
        "\n",
        "Firstly, we need to import the libraries necessary to implement the solution to the given problem. The main libraries that we need for this implementation are as follows: \n",
        "\n",
        "- pandas - for data manipulation and analysis\n",
        "- matplotlib - for plotting data points\n",
        "- seaborn - for data visualisation\n",
        "- numpy - for working faster with lists\n",
        "- sklearn - for data modeling, encoding, pipelining models, computing accuracy scores etc."
      ],
      "id": "atlantic-shoot"
    },
    {
      "cell_type": "code",
      "metadata": {
        "id": "comparative-enforcement"
      },
      "source": [
        "# Import necessary libraries\n",
        "\n",
        "import pandas as pd\n",
        "import matplotlib.pyplot as plt\n",
        "import seaborn as sns\n",
        "import numpy as np\n",
        "from sklearn.model_selection import train_test_split\n",
        "from sklearn.linear_model import LinearRegression\n",
        "from sklearn.preprocessing import OneHotEncoder\n",
        "from sklearn.compose import make_column_transformer\n",
        "from sklearn.pipeline import make_pipeline\n",
        "from sklearn.metrics import r2_score"
      ],
      "id": "comparative-enforcement",
      "execution_count": null,
      "outputs": []
    },
    {
      "cell_type": "markdown",
      "metadata": {
        "id": "centered-chamber"
      },
      "source": [
        "## Load Dataset\n",
        "Next, we need to load the dataset (car_data.csv) from the local machine. This dataset will be cleaned before use in the linear regression model."
      ],
      "id": "centered-chamber"
    },
    {
      "cell_type": "code",
      "metadata": {
        "scrolled": true,
        "colab": {
          "base_uri": "https://localhost:8080/",
          "height": 203
        },
        "id": "choice-holiday",
        "outputId": "7313cb3e-97d6-4233-a087-288e2886caa5"
      },
      "source": [
        "# Load dataset\n",
        "cars = pd.read_csv('car_data.csv')\n",
        "cars.head()"
      ],
      "id": "choice-holiday",
      "execution_count": null,
      "outputs": [
        {
          "output_type": "execute_result",
          "data": {
            "text/html": [
              "<div>\n",
              "<style scoped>\n",
              "    .dataframe tbody tr th:only-of-type {\n",
              "        vertical-align: middle;\n",
              "    }\n",
              "\n",
              "    .dataframe tbody tr th {\n",
              "        vertical-align: top;\n",
              "    }\n",
              "\n",
              "    .dataframe thead th {\n",
              "        text-align: right;\n",
              "    }\n",
              "</style>\n",
              "<table border=\"1\" class=\"dataframe\">\n",
              "  <thead>\n",
              "    <tr style=\"text-align: right;\">\n",
              "      <th></th>\n",
              "      <th>name</th>\n",
              "      <th>company</th>\n",
              "      <th>year</th>\n",
              "      <th>price</th>\n",
              "      <th>km_driven</th>\n",
              "      <th>fuel</th>\n",
              "    </tr>\n",
              "  </thead>\n",
              "  <tbody>\n",
              "    <tr>\n",
              "      <th>0</th>\n",
              "      <td>Maruti Swift Dzire VDI</td>\n",
              "      <td>Maruti</td>\n",
              "      <td>2014</td>\n",
              "      <td>4,50,000 rupees</td>\n",
              "      <td>1,45,500 kms</td>\n",
              "      <td>Diesel</td>\n",
              "    </tr>\n",
              "    <tr>\n",
              "      <th>1</th>\n",
              "      <td>Skoda Rapid 1.5 TDI Ambition</td>\n",
              "      <td>Skoda</td>\n",
              "      <td>2014</td>\n",
              "      <td>3,70,000 rupees</td>\n",
              "      <td>1,20,000 kms</td>\n",
              "      <td>Diesel</td>\n",
              "    </tr>\n",
              "    <tr>\n",
              "      <th>2</th>\n",
              "      <td>Honda City 2017-2020 EXi</td>\n",
              "      <td>Honda</td>\n",
              "      <td>2006</td>\n",
              "      <td>1,58,000 rupees</td>\n",
              "      <td>1,40,000 kms</td>\n",
              "      <td>Petrol</td>\n",
              "    </tr>\n",
              "    <tr>\n",
              "      <th>3</th>\n",
              "      <td>Hyundai i20 Sportz Diesel</td>\n",
              "      <td>Hyundai</td>\n",
              "      <td>2010</td>\n",
              "      <td>2,25,000 rupees</td>\n",
              "      <td>1,27,000 kms</td>\n",
              "      <td>Diesel</td>\n",
              "    </tr>\n",
              "    <tr>\n",
              "      <th>4</th>\n",
              "      <td>Maruti Swift VXI BSIII</td>\n",
              "      <td>Maruti</td>\n",
              "      <td>2007</td>\n",
              "      <td>1,30,000 rupees</td>\n",
              "      <td>1,20,000 kms</td>\n",
              "      <td>Petrol</td>\n",
              "    </tr>\n",
              "  </tbody>\n",
              "</table>\n",
              "</div>"
            ],
            "text/plain": [
              "                           name  company  ...     km_driven    fuel\n",
              "0        Maruti Swift Dzire VDI   Maruti  ...  1,45,500 kms  Diesel\n",
              "1  Skoda Rapid 1.5 TDI Ambition    Skoda  ...  1,20,000 kms  Diesel\n",
              "2      Honda City 2017-2020 EXi    Honda  ...  1,40,000 kms  Petrol\n",
              "3     Hyundai i20 Sportz Diesel  Hyundai  ...  1,27,000 kms  Diesel\n",
              "4        Maruti Swift VXI BSIII   Maruti  ...  1,20,000 kms  Petrol\n",
              "\n",
              "[5 rows x 6 columns]"
            ]
          },
          "metadata": {
            "tags": []
          },
          "execution_count": 2
        }
      ]
    },
    {
      "cell_type": "markdown",
      "metadata": {
        "id": "spread-knight"
      },
      "source": [
        "These are the attributes of the dataset card_data.csv"
      ],
      "id": "spread-knight"
    },
    {
      "cell_type": "markdown",
      "metadata": {
        "id": "tight-table"
      },
      "source": [
        "### Checking the quality of the dataset"
      ],
      "id": "tight-table"
    },
    {
      "cell_type": "code",
      "metadata": {
        "scrolled": true,
        "colab": {
          "base_uri": "https://localhost:8080/"
        },
        "id": "documented-arrangement",
        "outputId": "e7d49dde-35d3-4d13-8276-11b49b235e4d"
      },
      "source": [
        "# Finding the number of rows and columns in the dataset\n",
        "cars.shape"
      ],
      "id": "documented-arrangement",
      "execution_count": null,
      "outputs": [
        {
          "output_type": "execute_result",
          "data": {
            "text/plain": [
              "(8128, 6)"
            ]
          },
          "metadata": {
            "tags": []
          },
          "execution_count": 3
        }
      ]
    },
    {
      "cell_type": "code",
      "metadata": {
        "colab": {
          "base_uri": "https://localhost:8080/"
        },
        "id": "contained-municipality",
        "outputId": "eefb7443-52de-4468-ad01-21d79d940e12"
      },
      "source": [
        "# Finding the summary of the dataset\n",
        "cars.info()"
      ],
      "id": "contained-municipality",
      "execution_count": null,
      "outputs": [
        {
          "output_type": "stream",
          "text": [
            "<class 'pandas.core.frame.DataFrame'>\n",
            "RangeIndex: 8128 entries, 0 to 8127\n",
            "Data columns (total 6 columns):\n",
            " #   Column     Non-Null Count  Dtype \n",
            "---  ------     --------------  ----- \n",
            " 0   name       8128 non-null   object\n",
            " 1   company    8128 non-null   object\n",
            " 2   year       8128 non-null   int64 \n",
            " 3   price      8128 non-null   object\n",
            " 4   km_driven  8128 non-null   object\n",
            " 5   fuel       8128 non-null   object\n",
            "dtypes: int64(1), object(5)\n",
            "memory usage: 381.1+ KB\n"
          ],
          "name": "stdout"
        }
      ]
    },
    {
      "cell_type": "markdown",
      "metadata": {
        "id": "aware-geology"
      },
      "source": [
        "## Dataset Preprocessing\n",
        "\n",
        "We can see that the quality of the data can be improved. It has many problems like:\n",
        " - 'rupees' at the end of each price\n",
        " - 'kms' at the end of each km_driven\n",
        " - commas in price and km_driven values\n",
        " - quantities like price and km_driven are not numeric data type\n",
        " \n",
        "So, we are now going to preprocess the data to fix the aforementioned issues. It involves:\n",
        " - Cleaning the data\n",
        " - Modifying the data to the required format\n",
        " - Checking for any null values"
      ],
      "id": "aware-geology"
    },
    {
      "cell_type": "markdown",
      "metadata": {
        "id": "extra-expansion"
      },
      "source": [
        "### Cleaning km_driven"
      ],
      "id": "extra-expansion"
    },
    {
      "cell_type": "code",
      "metadata": {
        "scrolled": true,
        "colab": {
          "base_uri": "https://localhost:8080/",
          "height": 203
        },
        "id": "federal-figure",
        "outputId": "2c5bbf24-8c50-4740-aea1-f7e8b8ae62c1"
      },
      "source": [
        "# Removing 'kms' from km_driven\n",
        "cars['km_driven']=cars['km_driven'].str.split().str.get(0)\n",
        "\n",
        "# Removing commas from km_driven and converting it to type 'int'\n",
        "cars['km_driven']=cars['km_driven'].str.replace(',','').astype(int)\n",
        "\n",
        "# Display the first 5 rows to check for desired changes in km_driven format\n",
        "cars.head()"
      ],
      "id": "federal-figure",
      "execution_count": null,
      "outputs": [
        {
          "output_type": "execute_result",
          "data": {
            "text/html": [
              "<div>\n",
              "<style scoped>\n",
              "    .dataframe tbody tr th:only-of-type {\n",
              "        vertical-align: middle;\n",
              "    }\n",
              "\n",
              "    .dataframe tbody tr th {\n",
              "        vertical-align: top;\n",
              "    }\n",
              "\n",
              "    .dataframe thead th {\n",
              "        text-align: right;\n",
              "    }\n",
              "</style>\n",
              "<table border=\"1\" class=\"dataframe\">\n",
              "  <thead>\n",
              "    <tr style=\"text-align: right;\">\n",
              "      <th></th>\n",
              "      <th>name</th>\n",
              "      <th>company</th>\n",
              "      <th>year</th>\n",
              "      <th>price</th>\n",
              "      <th>km_driven</th>\n",
              "      <th>fuel</th>\n",
              "    </tr>\n",
              "  </thead>\n",
              "  <tbody>\n",
              "    <tr>\n",
              "      <th>0</th>\n",
              "      <td>Maruti Swift Dzire VDI</td>\n",
              "      <td>Maruti</td>\n",
              "      <td>2014</td>\n",
              "      <td>4,50,000 rupees</td>\n",
              "      <td>145500</td>\n",
              "      <td>Diesel</td>\n",
              "    </tr>\n",
              "    <tr>\n",
              "      <th>1</th>\n",
              "      <td>Skoda Rapid 1.5 TDI Ambition</td>\n",
              "      <td>Skoda</td>\n",
              "      <td>2014</td>\n",
              "      <td>3,70,000 rupees</td>\n",
              "      <td>120000</td>\n",
              "      <td>Diesel</td>\n",
              "    </tr>\n",
              "    <tr>\n",
              "      <th>2</th>\n",
              "      <td>Honda City 2017-2020 EXi</td>\n",
              "      <td>Honda</td>\n",
              "      <td>2006</td>\n",
              "      <td>1,58,000 rupees</td>\n",
              "      <td>140000</td>\n",
              "      <td>Petrol</td>\n",
              "    </tr>\n",
              "    <tr>\n",
              "      <th>3</th>\n",
              "      <td>Hyundai i20 Sportz Diesel</td>\n",
              "      <td>Hyundai</td>\n",
              "      <td>2010</td>\n",
              "      <td>2,25,000 rupees</td>\n",
              "      <td>127000</td>\n",
              "      <td>Diesel</td>\n",
              "    </tr>\n",
              "    <tr>\n",
              "      <th>4</th>\n",
              "      <td>Maruti Swift VXI BSIII</td>\n",
              "      <td>Maruti</td>\n",
              "      <td>2007</td>\n",
              "      <td>1,30,000 rupees</td>\n",
              "      <td>120000</td>\n",
              "      <td>Petrol</td>\n",
              "    </tr>\n",
              "  </tbody>\n",
              "</table>\n",
              "</div>"
            ],
            "text/plain": [
              "                           name  company  ...  km_driven    fuel\n",
              "0        Maruti Swift Dzire VDI   Maruti  ...     145500  Diesel\n",
              "1  Skoda Rapid 1.5 TDI Ambition    Skoda  ...     120000  Diesel\n",
              "2      Honda City 2017-2020 EXi    Honda  ...     140000  Petrol\n",
              "3     Hyundai i20 Sportz Diesel  Hyundai  ...     127000  Diesel\n",
              "4        Maruti Swift VXI BSIII   Maruti  ...     120000  Petrol\n",
              "\n",
              "[5 rows x 6 columns]"
            ]
          },
          "metadata": {
            "tags": []
          },
          "execution_count": 5
        }
      ]
    },
    {
      "cell_type": "markdown",
      "metadata": {
        "id": "filled-sympathy"
      },
      "source": [
        "The 'km_driven' column is now in the desired format."
      ],
      "id": "filled-sympathy"
    },
    {
      "cell_type": "markdown",
      "metadata": {
        "id": "referenced-arrangement"
      },
      "source": [
        "### Cleaning price"
      ],
      "id": "referenced-arrangement"
    },
    {
      "cell_type": "code",
      "metadata": {
        "colab": {
          "base_uri": "https://localhost:8080/",
          "height": 203
        },
        "id": "earned-consideration",
        "outputId": "a29c2b6f-1116-4210-912d-4cdddce0e190"
      },
      "source": [
        "# Removing 'rupees' from price\n",
        "cars['price']=cars['price'].str.split().str.get(0)\n",
        "\n",
        "# Removing commas from price and converting it to type 'int'\n",
        "cars['price']=cars['price'].str.replace(',','').astype(int)\n",
        "\n",
        "# Display the first 5 rows to check for desired changes in price format\n",
        "cars.head()"
      ],
      "id": "earned-consideration",
      "execution_count": null,
      "outputs": [
        {
          "output_type": "execute_result",
          "data": {
            "text/html": [
              "<div>\n",
              "<style scoped>\n",
              "    .dataframe tbody tr th:only-of-type {\n",
              "        vertical-align: middle;\n",
              "    }\n",
              "\n",
              "    .dataframe tbody tr th {\n",
              "        vertical-align: top;\n",
              "    }\n",
              "\n",
              "    .dataframe thead th {\n",
              "        text-align: right;\n",
              "    }\n",
              "</style>\n",
              "<table border=\"1\" class=\"dataframe\">\n",
              "  <thead>\n",
              "    <tr style=\"text-align: right;\">\n",
              "      <th></th>\n",
              "      <th>name</th>\n",
              "      <th>company</th>\n",
              "      <th>year</th>\n",
              "      <th>price</th>\n",
              "      <th>km_driven</th>\n",
              "      <th>fuel</th>\n",
              "    </tr>\n",
              "  </thead>\n",
              "  <tbody>\n",
              "    <tr>\n",
              "      <th>0</th>\n",
              "      <td>Maruti Swift Dzire VDI</td>\n",
              "      <td>Maruti</td>\n",
              "      <td>2014</td>\n",
              "      <td>450000</td>\n",
              "      <td>145500</td>\n",
              "      <td>Diesel</td>\n",
              "    </tr>\n",
              "    <tr>\n",
              "      <th>1</th>\n",
              "      <td>Skoda Rapid 1.5 TDI Ambition</td>\n",
              "      <td>Skoda</td>\n",
              "      <td>2014</td>\n",
              "      <td>370000</td>\n",
              "      <td>120000</td>\n",
              "      <td>Diesel</td>\n",
              "    </tr>\n",
              "    <tr>\n",
              "      <th>2</th>\n",
              "      <td>Honda City 2017-2020 EXi</td>\n",
              "      <td>Honda</td>\n",
              "      <td>2006</td>\n",
              "      <td>158000</td>\n",
              "      <td>140000</td>\n",
              "      <td>Petrol</td>\n",
              "    </tr>\n",
              "    <tr>\n",
              "      <th>3</th>\n",
              "      <td>Hyundai i20 Sportz Diesel</td>\n",
              "      <td>Hyundai</td>\n",
              "      <td>2010</td>\n",
              "      <td>225000</td>\n",
              "      <td>127000</td>\n",
              "      <td>Diesel</td>\n",
              "    </tr>\n",
              "    <tr>\n",
              "      <th>4</th>\n",
              "      <td>Maruti Swift VXI BSIII</td>\n",
              "      <td>Maruti</td>\n",
              "      <td>2007</td>\n",
              "      <td>130000</td>\n",
              "      <td>120000</td>\n",
              "      <td>Petrol</td>\n",
              "    </tr>\n",
              "  </tbody>\n",
              "</table>\n",
              "</div>"
            ],
            "text/plain": [
              "                           name  company  year   price  km_driven    fuel\n",
              "0        Maruti Swift Dzire VDI   Maruti  2014  450000     145500  Diesel\n",
              "1  Skoda Rapid 1.5 TDI Ambition    Skoda  2014  370000     120000  Diesel\n",
              "2      Honda City 2017-2020 EXi    Honda  2006  158000     140000  Petrol\n",
              "3     Hyundai i20 Sportz Diesel  Hyundai  2010  225000     127000  Diesel\n",
              "4        Maruti Swift VXI BSIII   Maruti  2007  130000     120000  Petrol"
            ]
          },
          "metadata": {
            "tags": []
          },
          "execution_count": 6
        }
      ]
    },
    {
      "cell_type": "markdown",
      "metadata": {
        "id": "silent-zoning"
      },
      "source": [
        "The 'price' column is now in the desired format."
      ],
      "id": "silent-zoning"
    },
    {
      "cell_type": "markdown",
      "metadata": {
        "id": "efficient-supervisor"
      },
      "source": [
        "### Checking for quality in values under each attribute (i.e.), for any spam or inconsistent data"
      ],
      "id": "efficient-supervisor"
    },
    {
      "cell_type": "code",
      "metadata": {
        "id": "exterior-sleep"
      },
      "source": [
        "# Finding the unique values from the column 'name'\n",
        "cars['name'].unique()"
      ],
      "id": "exterior-sleep",
      "execution_count": null,
      "outputs": []
    },
    {
      "cell_type": "markdown",
      "metadata": {
        "id": "coated-sunday"
      },
      "source": [
        "The names of the cars are very long and of variable length, hence spamming. We can use only the first three words of every car name to avoid this. The first three words of each car name suffice to specify the model and make of the car."
      ],
      "id": "coated-sunday"
    },
    {
      "cell_type": "code",
      "metadata": {
        "colab": {
          "base_uri": "https://localhost:8080/",
          "height": 203
        },
        "id": "neural-neighborhood",
        "outputId": "c8ca5ef8-bfe7-45eb-a018-4adcfa088c56"
      },
      "source": [
        "# Extracting the first three words from the values in the column 'name'\n",
        "cars['name']=cars['name'].str.split().str.slice(start=0,stop=3).str.join(' ')\n",
        "\n",
        "# Display the first 5 rows to check for changes in the column 'name'\n",
        "cars.head()"
      ],
      "id": "neural-neighborhood",
      "execution_count": null,
      "outputs": [
        {
          "output_type": "execute_result",
          "data": {
            "text/html": [
              "<div>\n",
              "<style scoped>\n",
              "    .dataframe tbody tr th:only-of-type {\n",
              "        vertical-align: middle;\n",
              "    }\n",
              "\n",
              "    .dataframe tbody tr th {\n",
              "        vertical-align: top;\n",
              "    }\n",
              "\n",
              "    .dataframe thead th {\n",
              "        text-align: right;\n",
              "    }\n",
              "</style>\n",
              "<table border=\"1\" class=\"dataframe\">\n",
              "  <thead>\n",
              "    <tr style=\"text-align: right;\">\n",
              "      <th></th>\n",
              "      <th>name</th>\n",
              "      <th>company</th>\n",
              "      <th>year</th>\n",
              "      <th>price</th>\n",
              "      <th>km_driven</th>\n",
              "      <th>fuel</th>\n",
              "    </tr>\n",
              "  </thead>\n",
              "  <tbody>\n",
              "    <tr>\n",
              "      <th>0</th>\n",
              "      <td>Maruti Swift Dzire</td>\n",
              "      <td>Maruti</td>\n",
              "      <td>2014</td>\n",
              "      <td>450000</td>\n",
              "      <td>145500</td>\n",
              "      <td>Diesel</td>\n",
              "    </tr>\n",
              "    <tr>\n",
              "      <th>1</th>\n",
              "      <td>Skoda Rapid 1.5</td>\n",
              "      <td>Skoda</td>\n",
              "      <td>2014</td>\n",
              "      <td>370000</td>\n",
              "      <td>120000</td>\n",
              "      <td>Diesel</td>\n",
              "    </tr>\n",
              "    <tr>\n",
              "      <th>2</th>\n",
              "      <td>Honda City 2017-2020</td>\n",
              "      <td>Honda</td>\n",
              "      <td>2006</td>\n",
              "      <td>158000</td>\n",
              "      <td>140000</td>\n",
              "      <td>Petrol</td>\n",
              "    </tr>\n",
              "    <tr>\n",
              "      <th>3</th>\n",
              "      <td>Hyundai i20 Sportz</td>\n",
              "      <td>Hyundai</td>\n",
              "      <td>2010</td>\n",
              "      <td>225000</td>\n",
              "      <td>127000</td>\n",
              "      <td>Diesel</td>\n",
              "    </tr>\n",
              "    <tr>\n",
              "      <th>4</th>\n",
              "      <td>Maruti Swift VXI</td>\n",
              "      <td>Maruti</td>\n",
              "      <td>2007</td>\n",
              "      <td>130000</td>\n",
              "      <td>120000</td>\n",
              "      <td>Petrol</td>\n",
              "    </tr>\n",
              "  </tbody>\n",
              "</table>\n",
              "</div>"
            ],
            "text/plain": [
              "                   name  company  year   price  km_driven    fuel\n",
              "0    Maruti Swift Dzire   Maruti  2014  450000     145500  Diesel\n",
              "1       Skoda Rapid 1.5    Skoda  2014  370000     120000  Diesel\n",
              "2  Honda City 2017-2020    Honda  2006  158000     140000  Petrol\n",
              "3    Hyundai i20 Sportz  Hyundai  2010  225000     127000  Diesel\n",
              "4      Maruti Swift VXI   Maruti  2007  130000     120000  Petrol"
            ]
          },
          "metadata": {
            "tags": []
          },
          "execution_count": 19
        }
      ]
    },
    {
      "cell_type": "code",
      "metadata": {
        "colab": {
          "base_uri": "https://localhost:8080/"
        },
        "id": "animated-tournament",
        "outputId": "aed7e624-b3f1-4d62-c84d-aba8683dc504"
      },
      "source": [
        "# Finding the unique values from the column 'company'\n",
        "cars['company'].unique()"
      ],
      "id": "animated-tournament",
      "execution_count": null,
      "outputs": [
        {
          "output_type": "execute_result",
          "data": {
            "text/plain": [
              "array(['Maruti', 'Skoda', 'Honda', 'Hyundai', 'Toyota', 'Ford', 'Renault',\n",
              "       'Mahindra', 'Tata', 'Chevrolet', 'Fiat', 'Datsun', 'Jeep',\n",
              "       'Mercedes-Benz', 'Mitsubishi', 'Audi', 'Volkswagen', 'BMW',\n",
              "       'Nissan', 'Lexus', 'Jaguar', 'Land', 'MG', 'Volvo', 'Daewoo',\n",
              "       'Kia', 'Force', 'Ambassador', 'Ashok', 'Isuzu', 'Opel', 'Peugeot'],\n",
              "      dtype=object)"
            ]
          },
          "metadata": {
            "tags": []
          },
          "execution_count": 20
        }
      ]
    },
    {
      "cell_type": "code",
      "metadata": {
        "colab": {
          "base_uri": "https://localhost:8080/"
        },
        "id": "perfect-crawford",
        "outputId": "c1847227-0ef1-47e0-8414-3d35edc2664e"
      },
      "source": [
        "# Finding the unique values from the column 'year'\n",
        "cars['year'].unique()"
      ],
      "id": "perfect-crawford",
      "execution_count": null,
      "outputs": [
        {
          "output_type": "execute_result",
          "data": {
            "text/plain": [
              "array([2014, 2006, 2010, 2007, 2017, 2001, 2011, 2013, 2005, 2009, 2016,\n",
              "       2012, 2002, 2015, 2018, 2003, 2019, 2008, 2020, 1999, 2000, 1983,\n",
              "       2004, 1996, 1994, 1995, 1998, 1997, 1991])"
            ]
          },
          "metadata": {
            "tags": []
          },
          "execution_count": 21
        }
      ]
    },
    {
      "cell_type": "code",
      "metadata": {
        "colab": {
          "base_uri": "https://localhost:8080/"
        },
        "id": "bulgarian-elephant",
        "outputId": "2c19812f-6917-4939-be0a-92caed967216"
      },
      "source": [
        "# Finding the unique values from the column 'price'\n",
        "cars['price'].unique()"
      ],
      "id": "bulgarian-elephant",
      "execution_count": null,
      "outputs": [
        {
          "output_type": "execute_result",
          "data": {
            "text/plain": [
              "array([  450000,   370000,   158000,   225000,   130000,   440000,\n",
              "          96000,    45000,   350000,   200000,   500000,    92000,\n",
              "         280000,   180000,   400000,   778000,   150000,   680000,\n",
              "         174000,   950000,   525000,   600000,   575000,   275000,\n",
              "         300000,   220000,   254999,   670000,    70000,   730000,\n",
              "         650000,   330000,   366000,  1149000,   425000,  2100000,\n",
              "         925000,   675000,   819999,   390000,  1500000,   700000,\n",
              "        1450000,  1090000,   850000,  1650000,  1750000,  1590000,\n",
              "        1689999,  1425000,   265000,   190000,   630000,   540000,\n",
              "         448000,   745000,  1025000,   235000,  1700000,    50000,\n",
              "        1200000,   610000,  2500000,   484999,   315000,   475000,\n",
              "         290000,   455000,   351000,   535000,   175000,   565000,\n",
              "         120000,   725000,   185000,   615000,   270000,   625000,\n",
              "         866000,   375000,   522000,   451999,   780000,   595000,\n",
              "        1140000,   360000,   105000,   135000,   690000,  3975000,\n",
              "        5150000,  3200000,  4100000,  4500000,  6000000,  3790000,\n",
              "        2150000,  5800000,  1864999,  2700000,   795000,  3400000,\n",
              "        2650000,  5850000,   975000,   805000,  2625000,   811000,\n",
              "         550000,   645000,  2550000,   599000,   875000,   894999,\n",
              "         340000,  1525000,  1900000,  2900000, 10000000,   160000,\n",
              "         515000,    40000,   480000,   487000,   386000,   100000,\n",
              "         490000,   345000,    85000,   215000,   320000,   459999,\n",
              "          65000,   720000,   800000,   520000,   580000,   420000,\n",
              "        1250000,   830000,   335000,   329000,   775000,   524000,\n",
              "         245000,   910000,   900000,   250000,  1100000,   640000,\n",
              "         409999,   165000,    80000,  1000000,   110000,    75000,\n",
              "         170000,  1380000,  1300000,   530000,   310000,  1150000,\n",
              "         380000,   404000,   114999,   465000,   210000,  4600000,\n",
              "         509999,    90000,   409000,   395000,    81000,   555000,\n",
              "         229999,  1210000,   325000,    60000,    89000,   434999,\n",
              "        3000000,   570000,  1550000,    64000,   140000,   503000,\n",
              "        3800000,  2000000,   740000,   750000,  5400000,  5500000,\n",
              "         779000,  2475000,   240000,  1085000,    95000,  1290000,\n",
              "         219000,   260000,   840000,   292000,   385000,  1050000,\n",
              "         735000,   560000,   585000,   760000,   430000,   643000,\n",
              "         285000,   660000,   268000,    88000,   561000,   755000,\n",
              "         125000,  1600000,   801000,   317000,   495000,   236000,\n",
              "        1800000,   415000,   217000,   466000,   204999,   605000,\n",
              "        1350000,   337000,   655000,   196000,   299000,   634000,\n",
              "        1225000,   238000,    72000,   590000,   195000,   715000,\n",
              "         168000,   531000,  1625000,   145000,   441000,    67500,\n",
              "         321000,   298000,  1075000,   681000,   810000,   573000,\n",
              "         101000,  1019999,   244000,  1165000,   241000,   327000,\n",
              "         620000,   576000,   695000,   231000,   261000,   371000,\n",
              "         421000,   710000,  1040000,   199000,   305000,  1745000,\n",
              "         611000,    55000,  1325000,   885000,   108000,   272000,\n",
              "        1125000,   388000,   757000,   626000,   793000,  3750000,\n",
              "        1400000,  1925000,   844999,  2940000,  1825000,   890000,\n",
              "         770000,   467000,   711000,   511000,   163000,   166000,\n",
              "         392000,   833000,    35000,   880000,  1030000,   521000,\n",
              "         451000,   472000,   649000,   429000,  1576000,   825000,\n",
              "         470000,  1560000,  1950000,   786000,   731000,   191000,\n",
              "         651000,   589000,   445000,    93150,   403000,   144000,\n",
              "          52000,   302000,   869999,   155000,   246000,   405000,\n",
              "        3250000,  1143000,   635000,  1575000,   318000,   152000,\n",
              "         248000,  1465000,  1080000,   678000,  1460000,   756000,\n",
              "         665000,  2950000,   377000,  1675000,   169000,   685000,\n",
              "         749000,   899000,   259000,   416000,   773000,   889000,\n",
              "         118000,   256000,  1888000,    99000,  2280000,    31504,\n",
              "         295000,   444000,    93000,   860000,  2450000,   198000,\n",
              "        2825000,  2125000,  3350000,   365000,   919999,  2600000,\n",
              "         839000,  1594000,   161000,   423000,   551000,   127000,\n",
              "         411000,  1530000,   376000,  1850000,    86000,   822000,\n",
              "          30000,   252000,   131000,   128000,   790000,   604000,\n",
              "        1175000,   256999,   141000,   151000,   577000,    83000,\n",
              "         946000,   356000,   955000,   978999,   348000,   399000,\n",
              "         362000,   499000,   358000,   278000,   426000,   211000,\n",
              "        1270000,   426999,   960000,  1031000,   479000,   764000,\n",
              "        2199000,  3600000,   184000,   119000,   267000,   328000,\n",
              "         112999,    39000,  2850000,  2800000,  3900000,   221000,\n",
              "         631000,   308000,   940000,   361000,   355000,  7200000,\n",
              "         930000,  1670000,   980000,   486000,   242000,   654000,\n",
              "         835000,   408000,    94500,  1110000,   438999,   911999,\n",
              "         693000,   449000,  1390000,   698000,   539000,   765000,\n",
              "         562000,   571000,   227999,  1151000,  1295000,  4090000,\n",
              "         347000,   493000,    78000,   545000,  1475000,   287000,\n",
              "        1630000,   501000,   181000,  2711000,  1035000,   316000,\n",
              "         813000,  1190000,   378000,   156000,   194000,   754000,\n",
              "          55599,  1511000,   250999,   312000,    66000,   369000,\n",
              "         149000,   752000,   142000,   111000,   206000,   567000,\n",
              "         699000,   632000,   905000,  1145000,    33983,    58000,\n",
              "         179000,  1515000,   178000,   222000,   387000,  1405000,\n",
              "         282000,   458000,   157000,   497000,  1227000,   574000,\n",
              "         121000,  3100000,    68000,  1920000,   808000,   512000,\n",
              "         671000,   799000,  1365000,  1490000,    80500,   189000,\n",
              "         892000,  1680000,   667000,   204000,    42000,   694000,\n",
              "         861999,   476999,  5200000,  2375000,  2750000,  1385000,\n",
              "         785000,  1275000,  1748999,   132000,    33351,  2064000,\n",
              "         469000,   906000,   797000,  6223000,  5923000,  6523000,\n",
              "         122000,   891000,   346000,   532000,   974000,   483000,\n",
              "         138000,   432000,  1757000,   412000,   126000,   736000,\n",
              "         579000,   187000,  4000000,  1898999,   311000,   482000,\n",
              "         401000,   737000,   291000,   999000,   957000,   834000,\n",
              "         297000,   669000,   616000,   129000,   115999,   861000,\n",
              "        3251000,   911000,   148000,   433000,   488000,    67000,\n",
              "         516000,   136000,    29999,   124000,  1938000,   172000,\n",
              "          59000,  3500000,   537000,    56000,   849000,   851000,\n",
              "         597000,   741000,   556000,   549000,   679000,   969999,\n",
              "        1237000,    31000,   666000,    54000,   374000,   455999,\n",
              "         453000,   258000,   428000,   262000,   389000,   339000,\n",
              "         277000,   578000,   684000,   949000,   227000,  5830000,\n",
              "         721000,   751000,  2400000,   990000,  1282000,  1147000,\n",
              "         558000,   722000,   563000,  2300000,  2200000,    57000,\n",
              "         488999,   276000,   434000,   372000,  1520000,   202999,\n",
              "         541000,   254000,   528000,   102000,   977000,  1251000,\n",
              "        1445000,    98000,    59259,   153000,  1051000,   591000,\n",
              "         319000,   454000,  1160000,  3300000,   791000,   352000,\n",
              "         802999,  1789999,  1044999,   279000,   944999,  1859000,\n",
              "         624000,  2175000,   430999,   803999,   934000,   357000,\n",
              "         965000,   341000,    75527,  1132000,   252999,   313000,\n",
              "         391000,  2051000,   212000,  2575000,  1516000,   359000,\n",
              "        1220000,  1180000,    45957,  1265000,   382000,   526000,\n",
              "          90177,    46000,   307000,   746000])"
            ]
          },
          "metadata": {
            "tags": []
          },
          "execution_count": 22
        }
      ]
    },
    {
      "cell_type": "code",
      "metadata": {
        "colab": {
          "base_uri": "https://localhost:8080/"
        },
        "id": "arbitrary-siemens",
        "outputId": "c906abfd-9bf7-4436-8b60-d4ae4e8bb20e"
      },
      "source": [
        "# Finding the unique values from the column 'km_driven'\n",
        "cars['km_driven'].unique()"
      ],
      "id": "arbitrary-siemens",
      "execution_count": null,
      "outputs": [
        {
          "output_type": "execute_result",
          "data": {
            "text/plain": [
              "array([145500, 120000, 140000, 127000,  45000, 175000,   5000,  90000,\n",
              "       169000,  68000, 100000,  80000,  40000,  70000,  53000,  50000,\n",
              "        72000,  35000,  28000,  25000,   2388,  16200,  10000,  15000,\n",
              "        42000,  60000,  76000,  28900,  86300,  23300,  32600,  10300,\n",
              "        77000,  99000,  27800,  49800, 151000,  54700,  64000,  63000,\n",
              "       127700,  33900,  59000, 110000, 147000,  30000, 135000,   9850,\n",
              "        78000, 170000,  49000,  32000,  38000,  44000,  12000,  55500,\n",
              "        61500, 150000,  37800, 114000,  48000,  69000,  13000,  76139,\n",
              "        65000,   1303,  31800,  20000,  17000,  21000,  37000,  29500,\n",
              "        27000,   7500,  19000,  41000,  39000,  22000,  47000,  72200,\n",
              "        49900,   9000,  11000,  95000,  18000,  46100,  16000,   9654,\n",
              "        24300,  42163,   8000,  71000,   9500,  36600,  14000, 120600,\n",
              "        86000,   7800,  31377,  75000,  93000, 125000,  13500, 162500,\n",
              "        92500, 158000,   2000, 181000, 193000, 122358,  95200,  33033,\n",
              "        63063, 207890,   7976,  16500,  99361,  33000,  80100, 160000,\n",
              "        26000,  29000,  58000,  36000, 185000, 162000,  67000,  52000,\n",
              "        68089,  58343,  38817,  56494,  79328,   5621,  25538,  69779,\n",
              "        56290,   8500,   7032, 106000, 240000, 214000,   1000, 265000,\n",
              "       134000,   2136, 250000, 130000,  99500, 119000,  44665, 123000,\n",
              "        34000, 146000,  85000, 201850,  46000, 190000,  43000,  14200,\n",
              "        19100,  54000, 101500,  97500,  55735,   1500, 181491,  53319,\n",
              "        40906,  31711,  43755,  66693,  59549,  94385,  73730, 221889,\n",
              "       116104, 150546, 148120, 142000, 126000,  24000, 101000, 168000,\n",
              "       165000,  98500,  98000,  77800,  51492, 136000,  91000, 167000,\n",
              "       180000,   6000,  55113,  91500, 132478,  51000, 105000, 137500,\n",
              "        88000, 156060, 107000,  57000, 300000, 200000,  18945, 144000,\n",
              "       107825,   1620, 141000, 108000,  55000,  37944,  90400,  96000,\n",
              "       193623,  63186, 219000,  23000,  94000, 140500, 143000, 195000,\n",
              "       360003,   8079, 114368,  79990,  81632, 155201, 101504,  90165,\n",
              "        86017,  85036, 160254, 125531, 206000,  49700,  74000,   6550,\n",
              "        56000,  41779,  31000,  13534,   7000,  28156,  63309, 155000,\n",
              "        11500,   3000, 157000,  26300,  89100, 104000, 210000, 216000,\n",
              "        84000, 161000,  72113, 113000,  96443,  51500, 104500,  49102,\n",
              "        81000, 227000, 117000,   8576,  19723,  21446,  52289,  52236,\n",
              "        54470,  25471,  33928,  59736,  54290,   2118,  61379,  58544,\n",
              "        74381,  63982,  56429,  19500,  56832,  30528,  65285,  20102,\n",
              "        52380,  74250,  57247, 178000,  42323,  42462,  54723,  42545,\n",
              "        41232,  20375,  43978,  40200,  27233,  28832, 103000, 142500,\n",
              "       115000, 118000,  35500,  17500,  92000,   4500,  83000,   6750,\n",
              "        18500,  50478,   9200,   2300,   4295,   5229,   4701,   6757,\n",
              "        28182,  11533,  11688,  57728,  23712,  70670,  43381,  79011,\n",
              "        58500,  43500,  12700,  49455,  46815, 334000, 100875, 128000,\n",
              "       144030, 176000,  89000,  97000,  12800,  65100,  15200,  82000,\n",
              "       116500, 145000,  73000, 113226, 160500, 132000, 217000, 139000,\n",
              "         3500,  62000, 120005,  16830,  93468,  16589,  53201,  25272,\n",
              "        53619,   6001, 202000,  71717,  84321, 177000, 205000,  41800,\n",
              "        88700, 188000, 225000,   5500,   4875,   2700,  58511,  26235,\n",
              "        26766,   1600,  24522,  13663,  58945, 375000, 156975,  27620,\n",
              "       143200, 137000, 138000, 189000, 156000,  10800,  67500, 255000,\n",
              "        71850, 112000, 159000,  76131,  51777,  64788,  46951,  74537,\n",
              "        23500,  68600,  13887,  66000,  24400,  27500,  67840, 149032,\n",
              "       380000,  84050, 112880,  28100,  61915, 184000,   6200,  16700,\n",
              "         7967,   9656,  68609,  33360,  14317,  87237,  62960,  26634,\n",
              "       163720,  67998,  20706, 100581,  67303,  79139,  84784, 130376,\n",
              "       148000,  33500,  22053,  78432, 270000,   7200, 117500,  78500,\n",
              "       115717,   4000,  26432,  46702,  46706,  53523,  56365,  49563,\n",
              "        56432,  52365,  53512,  53563,  46533,  59635,  58632, 123219,\n",
              "        65300,  39395, 230000,  32500,  64800, 248000,  66444, 218463,\n",
              "       153000,  87185,   3564,  48756,  80322, 173000, 275000,   6500,\n",
              "       220000, 108957,  22200, 260000,  42108,  79000,  17100,  43001,\n",
              "       100600,  92385, 116000,  72500,  82500,  50600, 121000, 101903,\n",
              "        85568,   3100, 186000,  59300,  89322,  48300,  23511,  22512,\n",
              "        62900,  52442,  34156,  34152,  62841,  38600,  27654,  48698,\n",
              "        32995,  90150,  85700,  25339,  68240,  92651,  88754,  23700,\n",
              "        53287,  69500,  28050,  22947,   7672,  36659,  44500,   9900,\n",
              "       124316,   6544,  49600, 198000, 103994,  35008,  31100,  42312,\n",
              "        54891,  18890,  75010,   4337,  14495,  83585,  48406,  56239,\n",
              "        33243,  15858,  87847,   9558,  87000, 112072,  52269,  15780,\n",
              "       108800,  12500, 577414,  68300, 121941, 152186,  82246,  89580,\n",
              "         2789,  35278,   2860,  78562,  36088, 129000, 500000, 133000,\n",
              "        64500,  24500,  45500,  71500,  93500,  60300,  44391,  56315,\n",
              "        15151, 114321,  37333, 330000, 291000,  21500, 197000,  40300,\n",
              "        30030,  29029,  72072,  82082,  80600,  58609,  33003, 165500,\n",
              "        47990,   5800,  68700, 102996,  96500,  52412,  85472,  87452,\n",
              "        66530,  32331, 172000,  23456, 136500, 111000,  42500,  47200,\n",
              "       246000,   5200,  10500,  93331, 109000,   5400, 102000,  60898,\n",
              "        29700,   7600,  29340,  80800,  24265,  56900,  88200,  40800,\n",
              "         8588, 305000, 158500, 212000, 101200, 179150,  84487, 264000,\n",
              "        51146, 298000, 149000, 291977,  36800,  52200, 107500, 248200,\n",
              "         7720,  57882, 242000,  55380,  18816,  33019,  47747,  45900,\n",
              "        68697, 147279,  24700,  43526,  55885,  16034, 156040,  93415,\n",
              "       122000,  68519,  22966,   2350,  59872,  91182,  59500,  75500,\n",
              "       152500,  69123,  77524,  40523,  23600, 218000, 290000,  24177,\n",
              "       121779,  15381,  74800, 109322, 475000,  61000,  80500,  65755,\n",
              "         2600,  15500,  50700, 440000, 152000, 200400,   7300,   9750,\n",
              "       157138, 285000, 127991,  13120,  87500,  62200,  87540, 231438,\n",
              "       239451, 154000, 426000, 182000, 215000,  77300,  61260,  17601,\n",
              "         4773,  57900,   8600,  78010,  83844,  23999,  91400, 178500,\n",
              "        66953, 166000, 131000, 100750,  48676,  79500, 200185,  49025,\n",
              "        76460,  47370,  45217, 163000, 222300,  44600,  28080,  28800,\n",
              "        21900,   7673,  96272,  22500,   7400, 370000, 150360,  42130,\n",
              "       147500,  56194,  54188,  54043,  66657,  35582,  54327,   7949,\n",
              "        59734,  49185,  56389,  58245,  36422,  42535,  40736,  56246,\n",
              "        55403, 105358,  49200,  81500,   3177,  39414,  30078,  44588,\n",
              "        49907,  67082, 112879,  10200,   1300, 175802, 192000,  73840,\n",
              "       320000,  24857,  26442,  50800,  40142,   9400,  12584,   4300,\n",
              "        14548,  44772,  48500,  28782,  28451,  36500,  44885, 131111,\n",
              "        58400,  23400, 158107,   3010,  77088, 136511,  36710,  28180,\n",
              "        44077,  55768, 123278,  26500,  18484,   2560, 103655,  56975,\n",
              "        74770, 187000,  73257,  26320,  38426, 116700, 176062,  77500,\n",
              "        39500,  55896,  30400, 164000, 271000,  75262,  91863,  47552,\n",
              "        14700,  19700, 145241,  95500,  53473,  75958,  31596,  85710,\n",
              "       129627,  55130,  22522,  51856,  29434,  34500,   6825, 112011,\n",
              "        53534, 248119,  24019,  19600, 376412, 183000, 108916,  89500,\n",
              "        59865,  68140,  53190,  70100,  47725,  70195,  77395,  74321,\n",
              "        80235,  77150,  61100,  82300,  82050,  74500,  29899,  59235,\n",
              "       201000,  77215,  48228,  58559,  72179,  50856,  18300,  59292,\n",
              "        21147,  61173,  77321,  91567,  33400,  92686,  67600,  49500,\n",
              "       112048,  30646,  14681,  43011, 104300,  73500, 280000,  35700,\n",
              "        22700,  21871,  55425,  37659,  37500,  19800,  45629,  68850,\n",
              "        45775,  68203,  97343,  82507,  59400, 125876,  56800,  65204,\n",
              "         2286,  15732,  49523,  36521,  64481,  49060,  37161,  60175,\n",
              "        49957,  43235,  50699,  50074,  30154,  26263,  84925,  46357,\n",
              "        46737, 110048, 186388,  20171,  37151,  58161,  50171,  55161,\n",
              "         9599,  16151,  28161,  80868, 194000, 191000])"
            ]
          },
          "metadata": {
            "tags": []
          },
          "execution_count": 23
        }
      ]
    },
    {
      "cell_type": "code",
      "metadata": {
        "colab": {
          "base_uri": "https://localhost:8080/"
        },
        "id": "adverse-taxation",
        "outputId": "c1f66afc-90f2-4314-b952-bcd23e074a46"
      },
      "source": [
        "# Finding the unique values from the column 'fuel'\n",
        "cars['fuel'].unique()"
      ],
      "id": "adverse-taxation",
      "execution_count": null,
      "outputs": [
        {
          "output_type": "execute_result",
          "data": {
            "text/plain": [
              "array(['Diesel', 'Petrol', 'LPG', 'CNG'], dtype=object)"
            ]
          },
          "metadata": {
            "tags": []
          },
          "execution_count": 24
        }
      ]
    },
    {
      "cell_type": "markdown",
      "metadata": {
        "id": "blind-bahamas"
      },
      "source": [
        "We can see that all attributes have quality data now. Next, we need to remove outliers, if any."
      ],
      "id": "blind-bahamas"
    },
    {
      "cell_type": "code",
      "metadata": {
        "colab": {
          "base_uri": "https://localhost:8080/",
          "height": 388
        },
        "id": "incorrect-fashion",
        "outputId": "a09b9a9c-8dfc-4b9c-a07b-c88505cf6895"
      },
      "source": [
        "# Displaying the statistical details of the dataframe 'cars' along with five number summary\n",
        "cars.describe(include='all')"
      ],
      "id": "incorrect-fashion",
      "execution_count": null,
      "outputs": [
        {
          "output_type": "execute_result",
          "data": {
            "text/html": [
              "<div>\n",
              "<style scoped>\n",
              "    .dataframe tbody tr th:only-of-type {\n",
              "        vertical-align: middle;\n",
              "    }\n",
              "\n",
              "    .dataframe tbody tr th {\n",
              "        vertical-align: top;\n",
              "    }\n",
              "\n",
              "    .dataframe thead th {\n",
              "        text-align: right;\n",
              "    }\n",
              "</style>\n",
              "<table border=\"1\" class=\"dataframe\">\n",
              "  <thead>\n",
              "    <tr style=\"text-align: right;\">\n",
              "      <th></th>\n",
              "      <th>name</th>\n",
              "      <th>company</th>\n",
              "      <th>year</th>\n",
              "      <th>price</th>\n",
              "      <th>km_driven</th>\n",
              "      <th>fuel</th>\n",
              "    </tr>\n",
              "  </thead>\n",
              "  <tbody>\n",
              "    <tr>\n",
              "      <th>count</th>\n",
              "      <td>8125</td>\n",
              "      <td>8125</td>\n",
              "      <td>8125.000000</td>\n",
              "      <td>8.125000e+03</td>\n",
              "      <td>8125.000000</td>\n",
              "      <td>8125</td>\n",
              "    </tr>\n",
              "    <tr>\n",
              "      <th>unique</th>\n",
              "      <td>696</td>\n",
              "      <td>32</td>\n",
              "      <td>NaN</td>\n",
              "      <td>NaN</td>\n",
              "      <td>NaN</td>\n",
              "      <td>4</td>\n",
              "    </tr>\n",
              "    <tr>\n",
              "      <th>top</th>\n",
              "      <td>Maruti Swift Dzire</td>\n",
              "      <td>Maruti</td>\n",
              "      <td>NaN</td>\n",
              "      <td>NaN</td>\n",
              "      <td>NaN</td>\n",
              "      <td>Diesel</td>\n",
              "    </tr>\n",
              "    <tr>\n",
              "      <th>freq</th>\n",
              "      <td>378</td>\n",
              "      <td>2447</td>\n",
              "      <td>NaN</td>\n",
              "      <td>NaN</td>\n",
              "      <td>NaN</td>\n",
              "      <td>4401</td>\n",
              "    </tr>\n",
              "    <tr>\n",
              "      <th>mean</th>\n",
              "      <td>NaN</td>\n",
              "      <td>NaN</td>\n",
              "      <td>2013.805415</td>\n",
              "      <td>6.383525e+05</td>\n",
              "      <td>69370.157046</td>\n",
              "      <td>NaN</td>\n",
              "    </tr>\n",
              "    <tr>\n",
              "      <th>std</th>\n",
              "      <td>NaN</td>\n",
              "      <td>NaN</td>\n",
              "      <td>4.044122</td>\n",
              "      <td>8.063861e+05</td>\n",
              "      <td>47965.645228</td>\n",
              "      <td>NaN</td>\n",
              "    </tr>\n",
              "    <tr>\n",
              "      <th>min</th>\n",
              "      <td>NaN</td>\n",
              "      <td>NaN</td>\n",
              "      <td>1983.000000</td>\n",
              "      <td>2.999900e+04</td>\n",
              "      <td>1000.000000</td>\n",
              "      <td>NaN</td>\n",
              "    </tr>\n",
              "    <tr>\n",
              "      <th>25%</th>\n",
              "      <td>NaN</td>\n",
              "      <td>NaN</td>\n",
              "      <td>2011.000000</td>\n",
              "      <td>2.549990e+05</td>\n",
              "      <td>35000.000000</td>\n",
              "      <td>NaN</td>\n",
              "    </tr>\n",
              "    <tr>\n",
              "      <th>50%</th>\n",
              "      <td>NaN</td>\n",
              "      <td>NaN</td>\n",
              "      <td>2015.000000</td>\n",
              "      <td>4.500000e+05</td>\n",
              "      <td>60000.000000</td>\n",
              "      <td>NaN</td>\n",
              "    </tr>\n",
              "    <tr>\n",
              "      <th>75%</th>\n",
              "      <td>NaN</td>\n",
              "      <td>NaN</td>\n",
              "      <td>2017.000000</td>\n",
              "      <td>6.750000e+05</td>\n",
              "      <td>98000.000000</td>\n",
              "      <td>NaN</td>\n",
              "    </tr>\n",
              "    <tr>\n",
              "      <th>max</th>\n",
              "      <td>NaN</td>\n",
              "      <td>NaN</td>\n",
              "      <td>2020.000000</td>\n",
              "      <td>1.000000e+07</td>\n",
              "      <td>577414.000000</td>\n",
              "      <td>NaN</td>\n",
              "    </tr>\n",
              "  </tbody>\n",
              "</table>\n",
              "</div>"
            ],
            "text/plain": [
              "                      name company  ...      km_driven    fuel\n",
              "count                 8125    8125  ...    8125.000000    8125\n",
              "unique                 696      32  ...            NaN       4\n",
              "top     Maruti Swift Dzire  Maruti  ...            NaN  Diesel\n",
              "freq                   378    2447  ...            NaN    4401\n",
              "mean                   NaN     NaN  ...   69370.157046     NaN\n",
              "std                    NaN     NaN  ...   47965.645228     NaN\n",
              "min                    NaN     NaN  ...    1000.000000     NaN\n",
              "25%                    NaN     NaN  ...   35000.000000     NaN\n",
              "50%                    NaN     NaN  ...   60000.000000     NaN\n",
              "75%                    NaN     NaN  ...   98000.000000     NaN\n",
              "max                    NaN     NaN  ...  577414.000000     NaN\n",
              "\n",
              "[11 rows x 6 columns]"
            ]
          },
          "metadata": {
            "tags": []
          },
          "execution_count": 25
        }
      ]
    },
    {
      "cell_type": "markdown",
      "metadata": {
        "id": "removable-looking"
      },
      "source": [
        "### Outliers\n",
        "In the 'km_driven' column, minimum value is 1km, 25th percentile is 35000km, 75th percentile is 98000km, and maximum value is 23,60,457km. It is clear that there are outliers present because the gap between min and 25%, max and 75% is substantially large. To check this, we will find how many values in 'km_driven' are smaller than an arbitrary small value, say 1,000km, and how many values are larger than an arbitrary large value, say 6,00,000km."
      ],
      "id": "removable-looking"
    },
    {
      "cell_type": "code",
      "metadata": {
        "colab": {
          "base_uri": "https://localhost:8080/",
          "height": 80
        },
        "id": "western-scale",
        "outputId": "4ca0ae67-0741-48dd-c486-64b93e2afa63"
      },
      "source": [
        "# Checking the cars with 'km_driven' value lower than 1,000km\n",
        "cars[cars['km_driven']<1000]"
      ],
      "id": "western-scale",
      "execution_count": null,
      "outputs": [
        {
          "output_type": "execute_result",
          "data": {
            "text/html": [
              "<div>\n",
              "<style scoped>\n",
              "    .dataframe tbody tr th:only-of-type {\n",
              "        vertical-align: middle;\n",
              "    }\n",
              "\n",
              "    .dataframe tbody tr th {\n",
              "        vertical-align: top;\n",
              "    }\n",
              "\n",
              "    .dataframe thead th {\n",
              "        text-align: right;\n",
              "    }\n",
              "</style>\n",
              "<table border=\"1\" class=\"dataframe\">\n",
              "  <thead>\n",
              "    <tr style=\"text-align: right;\">\n",
              "      <th></th>\n",
              "      <th>name</th>\n",
              "      <th>company</th>\n",
              "      <th>year</th>\n",
              "      <th>price</th>\n",
              "      <th>km_driven</th>\n",
              "      <th>fuel</th>\n",
              "    </tr>\n",
              "  </thead>\n",
              "  <tbody>\n",
              "    <tr>\n",
              "      <th>7913</th>\n",
              "      <td>Maruti Eeco 5</td>\n",
              "      <td>Maruti</td>\n",
              "      <td>2011</td>\n",
              "      <td>209000</td>\n",
              "      <td>1</td>\n",
              "      <td>CNG</td>\n",
              "    </tr>\n",
              "  </tbody>\n",
              "</table>\n",
              "</div>"
            ],
            "text/plain": [
              "               name company  year   price  km_driven fuel\n",
              "7913  Maruti Eeco 5  Maruti  2011  209000          1  CNG"
            ]
          },
          "metadata": {
            "tags": []
          },
          "execution_count": 15
        }
      ]
    },
    {
      "cell_type": "code",
      "metadata": {
        "colab": {
          "base_uri": "https://localhost:8080/",
          "height": 110
        },
        "id": "missing-service",
        "outputId": "ff4e3c5e-afa9-4d69-c7d5-b7902bc8f165"
      },
      "source": [
        "# Checking the cars with 'km_driven' value higher than 6,00,000km\n",
        "cars[cars['km_driven']>600000]"
      ],
      "id": "missing-service",
      "execution_count": null,
      "outputs": [
        {
          "output_type": "execute_result",
          "data": {
            "text/html": [
              "<div>\n",
              "<style scoped>\n",
              "    .dataframe tbody tr th:only-of-type {\n",
              "        vertical-align: middle;\n",
              "    }\n",
              "\n",
              "    .dataframe tbody tr th {\n",
              "        vertical-align: top;\n",
              "    }\n",
              "\n",
              "    .dataframe thead th {\n",
              "        text-align: right;\n",
              "    }\n",
              "</style>\n",
              "<table border=\"1\" class=\"dataframe\">\n",
              "  <thead>\n",
              "    <tr style=\"text-align: right;\">\n",
              "      <th></th>\n",
              "      <th>name</th>\n",
              "      <th>company</th>\n",
              "      <th>year</th>\n",
              "      <th>price</th>\n",
              "      <th>km_driven</th>\n",
              "      <th>fuel</th>\n",
              "    </tr>\n",
              "  </thead>\n",
              "  <tbody>\n",
              "    <tr>\n",
              "      <th>1810</th>\n",
              "      <td>Mahindra XUV500 W6</td>\n",
              "      <td>Mahindra</td>\n",
              "      <td>2012</td>\n",
              "      <td>500000</td>\n",
              "      <td>1500000</td>\n",
              "      <td>Diesel</td>\n",
              "    </tr>\n",
              "    <tr>\n",
              "      <th>3486</th>\n",
              "      <td>Hyundai i20 Asta</td>\n",
              "      <td>Hyundai</td>\n",
              "      <td>2007</td>\n",
              "      <td>550000</td>\n",
              "      <td>2360457</td>\n",
              "      <td>Petrol</td>\n",
              "    </tr>\n",
              "  </tbody>\n",
              "</table>\n",
              "</div>"
            ],
            "text/plain": [
              "                    name   company  year   price  km_driven    fuel\n",
              "1810  Mahindra XUV500 W6  Mahindra  2012  500000    1500000  Diesel\n",
              "3486    Hyundai i20 Asta   Hyundai  2007  550000    2360457  Petrol"
            ]
          },
          "metadata": {
            "tags": []
          },
          "execution_count": 16
        }
      ]
    },
    {
      "cell_type": "markdown",
      "metadata": {
        "id": "danish-state"
      },
      "source": [
        "We can see that there are only 3 cars in the dataset whose values of 'km_driven' lie way below or way above an acceptable threshold. So, we can neglect these rows for when we design the model."
      ],
      "id": "danish-state"
    },
    {
      "cell_type": "code",
      "metadata": {
        "id": "younger-gasoline"
      },
      "source": [
        "# Removing outliers\n",
        "cars = cars[cars['km_driven']>=1000]\n",
        "cars = cars[cars['km_driven']<600000]"
      ],
      "id": "younger-gasoline",
      "execution_count": null,
      "outputs": []
    },
    {
      "cell_type": "markdown",
      "metadata": {
        "id": "psychological-congress"
      },
      "source": [
        "## Exploratory Data Analysis (EDA)\n",
        "\n",
        "Now, the data has been preprocessed and cleaned, ready to use. We can now visualize this data as we please. Since we need to predict the price of a used car, let's try to visualise the relationship of some attributes with price. We use boxplots, lineplots, etc., for this purpose."
      ],
      "id": "psychological-congress"
    },
    {
      "cell_type": "markdown",
      "metadata": {
        "id": "korean-nothing"
      },
      "source": [
        "## Relationship of company with price"
      ],
      "id": "korean-nothing"
    },
    {
      "cell_type": "code",
      "metadata": {
        "colab": {
          "base_uri": "https://localhost:8080/",
          "height": 572
        },
        "id": "collective-greece",
        "outputId": "ac5feb03-e6a4-4f4d-c94f-b864def9946f"
      },
      "source": [
        "# Constructing a boxplot with 'company' in the x-axis, 'price' in the y-axis using the dataframe 'cars'\n",
        "plt.subplots(figsize=(15,8))\n",
        "r1 = sns.boxplot(x ='company', y='price',data=cars)\n",
        "\n",
        "# Rotate the labels in the x-axis by 70 degrees to be able to clearly read them\n",
        "r1.set_xticklabels(r1.get_xticklabels(),rotation=70,ha='right')\n",
        "\n",
        "# Display the boxplot\n",
        "plt.show()"
      ],
      "id": "collective-greece",
      "execution_count": null,
      "outputs": [
        {
          "output_type": "display_data",
          "data": {
            "image/png": "[encoded data removed]",
            "text/plain": [
              "<Figure size 1080x576 with 1 Axes>"
            ]
          },
          "metadata": {
            "tags": [],
            "needs_background": "light"
          }
        }
      ]
    },
    {
      "cell_type": "markdown",
      "metadata": {
        "id": "productive-preserve"
      },
      "source": [
        "The company names like Maruti, Honda, Hyundai, etc., in the x-axis are plotted against price in the y-axis to show the price ranges of the cars corresponding to each company. The line in the middle of each box shows the median of the price of cars of that company. We can easily interpret the price range of cars manufactured by each company. For example, we can interpret from the plot that BMW has higher-priced cars than other companies."
      ],
      "id": "productive-preserve"
    },
    {
      "cell_type": "markdown",
      "metadata": {
        "id": "liable-twelve"
      },
      "source": [
        "## Relationship of km_driven with price"
      ],
      "id": "liable-twelve"
    },
    {
      "cell_type": "code",
      "metadata": {
        "colab": {
          "base_uri": "https://localhost:8080/",
          "height": 545
        },
        "id": "polished-nursery",
        "outputId": "804b5b93-d911-466d-f3f0-9334db372f0f"
      },
      "source": [
        "# Constructing a plot with 'km_dirven' in the x-axis, 'price' in the y-axis using the dataframe 'cars'\n",
        "sns.relplot(x='km_driven',y='price',data=cars,height=7,aspect=1.5)"
      ],
      "id": "polished-nursery",
      "execution_count": null,
      "outputs": [
        {
          "output_type": "execute_result",
          "data": {
            "text/plain": [
              "<seaborn.axisgrid.FacetGrid at 0x7fe619f00850>"
            ]
          },
          "metadata": {
            "tags": []
          },
          "execution_count": 27
        },
        {
          "output_type": "display_data",
          "data": {
            "image/png": "[encoded data removed]",
            "text/plain": [
              "<Figure size 756x504 with 1 Axes>"
            ]
          },
          "metadata": {
            "tags": [],
            "needs_background": "light"
          }
        }
      ]
    },
    {
      "cell_type": "markdown",
      "metadata": {
        "id": "seven-invasion"
      },
      "source": [
        "This plot shows how the no. of kilometers that a car has been driven for influences the price at which it was sold. For example, we can interpret from the graph that cars that have been driven for 2,50,000km or more sell at low prices, whereas cars that have not been driven much at all sell at higher prices."
      ],
      "id": "seven-invasion"
    },
    {
      "cell_type": "markdown",
      "metadata": {
        "id": "fluid-petroleum"
      },
      "source": [
        "## Relationship of year with price"
      ],
      "id": "fluid-petroleum"
    },
    {
      "cell_type": "code",
      "metadata": {
        "colab": {
          "base_uri": "https://localhost:8080/",
          "height": 602
        },
        "id": "amateur-formation",
        "outputId": "984454f5-5945-42b4-84dd-86ba968376cd"
      },
      "source": [
        "# Constructing a lineplot with 'year' in the x-axis, 'price' in the y-axis using the dataframe 'cars'\n",
        "plt.subplots(figsize=(20,10))\n",
        "r2 = sns.lineplot(x='year', y='price', data=cars)\n",
        "r2"
      ],
      "id": "amateur-formation",
      "execution_count": null,
      "outputs": [
        {
          "output_type": "execute_result",
          "data": {
            "text/plain": [
              "<matplotlib.axes._subplots.AxesSubplot at 0x7fe610dc4550>"
            ]
          },
          "metadata": {
            "tags": []
          },
          "execution_count": 28
        },
        {
          "output_type": "display_data",
          "data": {
            "image/png": "[encoded data removed]",
            "text/plain": [
              "<Figure size 1440x720 with 1 Axes>"
            ]
          },
          "metadata": {
            "tags": [],
            "needs_background": "light"
          }
        }
      ]
    },
    {
      "cell_type": "markdown",
      "metadata": {
        "id": "ideal-welcome"
      },
      "source": [
        "This lineplot shows the trend of the prices of used cars over the years. We can see that prices of cars that were purchased a little after 2015 have been sold at higher prices than those before, but after a while, towards the year 2020, the prices take a steep fall."
      ],
      "id": "ideal-welcome"
    },
    {
      "cell_type": "markdown",
      "metadata": {
        "id": "shared-trustee"
      },
      "source": [
        "## Relationship of fuel with price"
      ],
      "id": "shared-trustee"
    },
    {
      "cell_type": "code",
      "metadata": {
        "colab": {
          "base_uri": "https://localhost:8080/",
          "height": 470
        },
        "id": "lightweight-trader",
        "outputId": "6cc38bc1-497e-4645-c2d4-ea35e432122c"
      },
      "source": [
        "# Constructing a boxplot with 'fuel' in the x-axis, 'price' in the y-axis using the dataframe 'cars'\n",
        "plt.subplots(figsize=(10,7))\n",
        "r4 = sns.boxplot(x='fuel',y='price',data=cars)\n",
        "r4"
      ],
      "id": "lightweight-trader",
      "execution_count": null,
      "outputs": [
        {
          "output_type": "execute_result",
          "data": {
            "text/plain": [
              "<matplotlib.axes._subplots.AxesSubplot at 0x7fe619f06410>"
            ]
          },
          "metadata": {
            "tags": []
          },
          "execution_count": 29
        },
        {
          "output_type": "display_data",
          "data": {
            "image/png": "[encoded data removed]",
            "text/plain": [
              "<Figure size 720x504 with 1 Axes>"
            ]
          },
          "metadata": {
            "tags": [],
            "needs_background": "light"
          }
        }
      ]
    },
    {
      "cell_type": "markdown",
      "metadata": {
        "id": "expensive-reggae"
      },
      "source": [
        "This boxplot shows the price ranges influenced by the different fuel types like diesel, petrol, LPG, and CNG. We can easily interpret that the cars powered by diesel generally sell at higher prices than those with petrol, LPG, and CNG. LPG powered cars sell the least."
      ],
      "id": "expensive-reggae"
    },
    {
      "cell_type": "markdown",
      "metadata": {
        "id": "pharmaceutical-miller"
      },
      "source": [
        "## Relationship of price with company, year, fuel"
      ],
      "id": "pharmaceutical-miller"
    },
    {
      "cell_type": "code",
      "metadata": {
        "colab": {
          "base_uri": "https://localhost:8080/",
          "height": 609
        },
        "id": "significant-addiction",
        "outputId": "8f39ab90-fc68-4e64-f1e6-a949392a799e"
      },
      "source": [
        "# Constructing a plot to check the variation of price with respect to company, year, and fuel\n",
        "r5 = sns.relplot(x='company',y='price',data=cars,hue='fuel', size='year',height=7,aspect=2)\n",
        "r5.set_xticklabels(rotation=70,ha='right')\n",
        "r5"
      ],
      "id": "significant-addiction",
      "execution_count": null,
      "outputs": [
        {
          "output_type": "execute_result",
          "data": {
            "text/plain": [
              "<seaborn.axisgrid.FacetGrid at 0x7fe610ccd250>"
            ]
          },
          "metadata": {
            "tags": []
          },
          "execution_count": 30
        },
        {
          "output_type": "display_data",
          "data": {
            "image/png": "[encoded data removed]",
            "text/plain": [
              "<Figure size 1075x504 with 1 Axes>"
            ]
          },
          "metadata": {
            "tags": [],
            "needs_background": "light"
          }
        }
      ]
    },
    {
      "cell_type": "markdown",
      "metadata": {
        "id": "geographic-combine"
      },
      "source": [
        "## Inputs and Target\n",
        "#### Inputs:\n",
        "- name\n",
        "- company\n",
        "- year\n",
        "- km_driven\n",
        "- fuel\n",
        "\n",
        "#### Output/Target:\n",
        "- price"
      ],
      "id": "geographic-combine"
    },
    {
      "cell_type": "code",
      "metadata": {
        "id": "hired-period"
      },
      "source": [
        "# Selecting the input and target features\n",
        "X = cars[['name','company','year','km_driven','fuel']]\n",
        "y = cars['price']"
      ],
      "id": "hired-period",
      "execution_count": null,
      "outputs": []
    },
    {
      "cell_type": "markdown",
      "metadata": {
        "id": "imposed-external"
      },
      "source": [
        "## Train-Test Split\n",
        "The train-test split is a technique for evaluating the performance of a Machine Learning Algorithm. It divides the dataset into two subsets:\n",
        "- <b>Training Dataset</b> : Used to fit the model\n",
        "- <b>Testing Dataset </b> : Used to test the model and predict desried output values, which are then compared with the expected values\n",
        "\n",
        "Generally, the data is train-test split in percentages of 80-20 or 67-33. For this dataset, we have used the 80-20 train-test split."
      ],
      "id": "imposed-external"
    },
    {
      "cell_type": "code",
      "metadata": {
        "id": "registered-greeting"
      },
      "source": [
        "# Performing train-test split with test size as 20%\n",
        "X_train,X_test,y_train,y_test = train_test_split(X,y,test_size=0.2,random_state=490)"
      ],
      "id": "registered-greeting",
      "execution_count": null,
      "outputs": []
    },
    {
      "cell_type": "markdown",
      "metadata": {
        "id": "through-personal"
      },
      "source": [
        "## One Hot Encoding\n",
        "The values in the columns 'name', 'company', and 'fuel' are categorical. As this can confuse the machine learning model, the data in these columns should be encoded, either using integer encoding or using other encoding mechanisms. \n",
        "\n",
        "We could use an integer encoding directly, rescaled where needed. This may work for problems where there is a natural ordinal relationship between the categories, and in turn the integer values, but in our categorical data, no such ordinal relationship is existent.\n",
        "\n",
        "So, we use one hot encoding for this purpose. One hot encoding allows the representation of categorical data to be more expressive. It splits the columns that contain categorical data into many columns depending on the number of categories present in those columns."
      ],
      "id": "through-personal"
    },
    {
      "cell_type": "code",
      "metadata": {
        "id": "discrete-personality"
      },
      "source": [
        "# Performing One Hot Encoding on categorical data in 'name', 'company', 'fuel'\n",
        "ohe = OneHotEncoder()\n",
        "\n",
        "# Fit the encoded categorical data to the inputs for the model\n",
        "ohe.fit(X[['name','company','fuel']])\n",
        "\n",
        "# Use column transformer to selectively apply data transformation (one hot encoder here) selectively to categorical data and let other columns' data pass through as they are\n",
        "column_trans = make_column_transformer((OneHotEncoder(categories=ohe.categories_),['name','company','fuel']), remainder='passthrough')"
      ],
      "id": "discrete-personality",
      "execution_count": null,
      "outputs": []
    },
    {
      "cell_type": "markdown",
      "metadata": {
        "id": "developmental-flood"
      },
      "source": [
        "## Model Training"
      ],
      "id": "developmental-flood"
    },
    {
      "cell_type": "markdown",
      "metadata": {
        "id": "toxic-fellow"
      },
      "source": [
        "A pipeline in machine learning is used to help automate machine learning workflows. They operate by enabling a sequence of data to be transformed and correlated together in a model that can be tested and evaluated to achieve an outcome, whether positive or negative. The execution of the workflow is in a pipe-like manner, i.e. the output of the first steps becomes the input of the second step. Scikit-learn provides a feature for handling such pipes under the sklearn.pipeline module called Pipeline. "
      ],
      "id": "toxic-fellow"
    },
    {
      "cell_type": "code",
      "metadata": {
        "colab": {
          "base_uri": "https://localhost:8080/"
        },
        "id": "joined-thumbnail",
        "outputId": "236d036b-ff02-4283-d1c9-6357c829dc4f"
      },
      "source": [
        "# Implementing linear regression with default hyperparameters\n",
        "lr = LinearRegression()\n",
        "\n",
        "# Making a pipeline\n",
        "pipe = make_pipeline(column_trans,lr)\n",
        "\n",
        "# Fitting the model with training values\n",
        "pipe.fit(X_train,y_train)"
      ],
      "id": "joined-thumbnail",
      "execution_count": null,
      "outputs": [
        {
          "output_type": "execute_result",
          "data": {
            "text/plain": [
              "Pipeline(memory=None,\n",
              "         steps=[('columntransformer',\n",
              "                 ColumnTransformer(n_jobs=None, remainder='passthrough',\n",
              "                                   sparse_threshold=0.3,\n",
              "                                   transformer_weights=None,\n",
              "                                   transformers=[('onehotencoder',\n",
              "                                                  OneHotEncoder(categories=[array(['Ambassador CLASSIC 1500', 'Ambassador Classic 2000',\n",
              "       'Ambassador Grand 1500', 'Ambassador Grand 2000',\n",
              "       'Ashok Leyland Stile', 'Audi A3 35', 'Audi A3 40', 'Au...\n",
              "       'Peugeot', 'Renault', 'Skoda', 'Tata', 'Toyota', 'Volkswagen',\n",
              "       'Volvo'], dtype=object),\n",
              "                                                                            array(['CNG', 'Diesel', 'LPG', 'Petrol'], dtype=object)],\n",
              "                                                                drop=None,\n",
              "                                                                dtype=<class 'numpy.float64'>,\n",
              "                                                                handle_unknown='error',\n",
              "                                                                sparse=True),\n",
              "                                                  ['name', 'company', 'fuel'])],\n",
              "                                   verbose=False)),\n",
              "                ('linearregression',\n",
              "                 LinearRegression(copy_X=True, fit_intercept=True, n_jobs=None,\n",
              "                                  normalize=False))],\n",
              "         verbose=False)"
            ]
          },
          "metadata": {
            "tags": []
          },
          "execution_count": 34
        }
      ]
    },
    {
      "cell_type": "markdown",
      "metadata": {
        "id": "stretch-baghdad"
      },
      "source": [
        "## Predictions"
      ],
      "id": "stretch-baghdad"
    },
    {
      "cell_type": "code",
      "metadata": {
        "id": "institutional-simulation"
      },
      "source": [
        "# Predicting the test dataset\n",
        "y_pred = pipe.predict(X_test)"
      ],
      "id": "institutional-simulation",
      "execution_count": null,
      "outputs": []
    },
    {
      "cell_type": "markdown",
      "metadata": {
        "id": "agricultural-nursing"
      },
      "source": [
        "## Plotting the regression line with the values in test dataset\n",
        "As mentioned earlier, a linear line showing the relationship between the dependent and independent variables is called a regression line. We can visualise this regression line for our test dataset."
      ],
      "id": "agricultural-nursing"
    },
    {
      "cell_type": "code",
      "metadata": {
        "colab": {
          "base_uri": "https://localhost:8080/",
          "height": 306
        },
        "id": "educated-tolerance",
        "outputId": "33952e65-670d-4805-a1a4-5308d5378ecd"
      },
      "source": [
        "# Scatter plot of testing dataset\n",
        "plt.scatter(y_test, y_pred)\n",
        "plt.plot(y_test, 0.8062*y_test, 'r')\n",
        "\n",
        "# Display the plot\n",
        "plt.show"
      ],
      "id": "educated-tolerance",
      "execution_count": null,
      "outputs": [
        {
          "output_type": "execute_result",
          "data": {
            "text/plain": [
              "<function matplotlib.pyplot.show>"
            ]
          },
          "metadata": {
            "tags": []
          },
          "execution_count": 36
        },
        {
          "output_type": "display_data",
          "data": {
            "image/png": "[encoded data removed]",
            "text/plain": [
              "<Figure size 432x288 with 1 Axes>"
            ]
          },
          "metadata": {
            "tags": [],
            "needs_background": "light"
          }
        }
      ]
    },
    {
      "cell_type": "markdown",
      "metadata": {
        "id": "infinite-reminder"
      },
      "source": [
        "## Evaluating the Model\n",
        "Now that we have trained our model, we need to check how well it performs. In regression (whether linear or otherwise), because the predicted value is a continuous variable, we want to quantify how overall we mispredict the target variable. So, we use a metric called R2-score or R-square score.\n",
        "\n",
        "R-square score is a statistical measure that represents the goodness of fit of a regression model. The ideal value for r-square is 1. The closer the value of r-square to 1, the better is the model fitted. It is also known as the coefficient of determination.\n",
        "\n",
        "R-square score is a comparison of residual sum of squares (SSres) with total sum of squares(SStot). Residual sum of squares in calculated by the summation of squares of perpendicular distance between data points and the best fitted line. Total sum of squares is calculated by summation of squares of perpendicular distance between data points and the average line. R2-score is calculated using the following formula:<br>\n",
        "<br>\n",
        "\n",
        "<center><font size=\"5\">$R2 = 1 - SS(res) / SS(tot)$</center>"
      ],
      "id": "infinite-reminder"
    },
    {
      "cell_type": "code",
      "metadata": {
        "colab": {
          "base_uri": "https://localhost:8080/"
        },
        "id": "twenty-morrison",
        "outputId": "982b74c2-84d2-402a-9616-c889b2e564e2"
      },
      "source": [
        "# Calculating R2 score\n",
        "r2_score(y_test,y_pred)"
      ],
      "id": "twenty-morrison",
      "execution_count": null,
      "outputs": [
        {
          "output_type": "execute_result",
          "data": {
            "text/plain": [
              "0.9767932315714218"
            ]
          },
          "metadata": {
            "tags": []
          },
          "execution_count": 37
        }
      ]
    },
    {
      "cell_type": "markdown",
      "metadata": {
        "id": "encouraging-michael"
      },
      "source": [
        "The R2-score obtained is 0.97, almost close to the ideal value for r2-score (i.e.), 1. This shows that our regression model fits extremely well for the data. "
      ],
      "id": "encouraging-michael"
    },
    {
      "cell_type": "markdown",
      "metadata": {
        "id": "right-hamilton"
      },
      "source": [
        "## New input and output to test the predictive ability of the model\n",
        "### Input format: As given below"
      ],
      "id": "right-hamilton"
    },
    {
      "cell_type": "code",
      "metadata": {
        "scrolled": true,
        "id": "nuclear-screen",
        "outputId": "42c5f63c-d14b-477b-8b4b-880154242f86"
      },
      "source": [
        "name = input(\"Enter the model of the car: \")"
      ],
      "id": "nuclear-screen",
      "execution_count": null,
      "outputs": [
        {
          "output_type": "stream",
          "text": [
            "Enter the model of the car: Maruti Swift VXI\n"
          ],
          "name": "stdout"
        }
      ]
    },
    {
      "cell_type": "code",
      "metadata": {
        "id": "static-match",
        "outputId": "663da721-6fb8-4dab-e1a1-78e047d7e411"
      },
      "source": [
        "company = input(\"Enter the company: \")"
      ],
      "id": "static-match",
      "execution_count": null,
      "outputs": [
        {
          "output_type": "stream",
          "text": [
            "Enter the company: Maruti\n"
          ],
          "name": "stdout"
        }
      ]
    },
    {
      "cell_type": "code",
      "metadata": {
        "id": "raised-effort",
        "outputId": "3e825964-ac74-4e2b-f240-c1c6b8f98522"
      },
      "source": [
        "year = int(input(\"Enter the year in which the car was purchased: \"))"
      ],
      "id": "raised-effort",
      "execution_count": null,
      "outputs": [
        {
          "output_type": "stream",
          "text": [
            "Enter the year in which the car was purchased: 2010\n"
          ],
          "name": "stdout"
        }
      ]
    },
    {
      "cell_type": "code",
      "metadata": {
        "id": "reverse-prairie",
        "outputId": "dc37e8b5-883a-4048-bbcb-9c80f2b31c1c"
      },
      "source": [
        "kms_driven = int(input(\"Enter the number of kilometers driven: \"))"
      ],
      "id": "reverse-prairie",
      "execution_count": null,
      "outputs": [
        {
          "output_type": "stream",
          "text": [
            "Enter the number of kilometers driven: 52000\n"
          ],
          "name": "stdout"
        }
      ]
    },
    {
      "cell_type": "code",
      "metadata": {
        "id": "important-reality",
        "outputId": "51645095-04e1-4402-fe1d-57c01ef00557"
      },
      "source": [
        "fuel_type = input(\"Enter the fuel type: \")"
      ],
      "id": "important-reality",
      "execution_count": null,
      "outputs": [
        {
          "output_type": "stream",
          "text": [
            "Enter the fuel type: Petrol\n"
          ],
          "name": "stdout"
        }
      ]
    },
    {
      "cell_type": "markdown",
      "metadata": {
        "id": "bizarre-switzerland"
      },
      "source": [
        "### Output"
      ],
      "id": "bizarre-switzerland"
    },
    {
      "cell_type": "code",
      "metadata": {
        "colab": {
          "base_uri": "https://localhost:8080/",
          "height": 245
        },
        "id": "reasonable-allergy",
        "outputId": "c6681524-8d3a-44a5-d5d6-eb73a371b83a"
      },
      "source": [
        "#predicting the car price for the given user input\n",
        "price_pred = pipe.predict(pd.DataFrame(columns=['name','company','year','km_driven','fuel'],data=np.array([name,company,year,kms_driven,fuel_type]).reshape(1,5)))\n",
        "#price_pred = price_pred.astype(float)\n",
        "print(\"-------------------------------------------------\")\n",
        "print(\"Model             : \",name)\n",
        "print(\"Company           : \",company)\n",
        "print(\"Year              : \",year)\n",
        "print(\"Kilometers driven : \",kms_driven)\n",
        "print(\"Fuel type         : \",fuel_type)\n",
        "print(\"Predicted Price   :  Rs.\",round(price_pred[0],2))\n",
        "print(\"-------------------------------------------------\")"
      ],
      "id": "reasonable-allergy",
      "execution_count": null,
      "outputs": [
        {
          "output_type": "error",
          "ename": "NameError",
          "evalue": "ignored",
          "traceback": [
            "\u001b[0;31m---------------------------------------------------------------------------\u001b[0m",
            "\u001b[0;31mNameError\u001b[0m                                 Traceback (most recent call last)",
            "\u001b[0;32m<ipython-input-30-4d8b2cb25e47>\u001b[0m in \u001b[0;36m<module>\u001b[0;34m()\u001b[0m\n\u001b[1;32m      1\u001b[0m \u001b[0;31m#predicting the car price for the given user input\u001b[0m\u001b[0;34m\u001b[0m\u001b[0;34m\u001b[0m\u001b[0;34m\u001b[0m\u001b[0m\n\u001b[0;32m----> 2\u001b[0;31m \u001b[0mprice_pred\u001b[0m \u001b[0;34m=\u001b[0m \u001b[0mpipe\u001b[0m\u001b[0;34m.\u001b[0m\u001b[0mpredict\u001b[0m\u001b[0;34m(\u001b[0m\u001b[0mpd\u001b[0m\u001b[0;34m.\u001b[0m\u001b[0mDataFrame\u001b[0m\u001b[0;34m(\u001b[0m\u001b[0mcolumns\u001b[0m\u001b[0;34m=\u001b[0m\u001b[0;34m[\u001b[0m\u001b[0;34m'name'\u001b[0m\u001b[0;34m,\u001b[0m\u001b[0;34m'company'\u001b[0m\u001b[0;34m,\u001b[0m\u001b[0;34m'year'\u001b[0m\u001b[0;34m,\u001b[0m\u001b[0;34m'km_driven'\u001b[0m\u001b[0;34m,\u001b[0m\u001b[0;34m'fuel'\u001b[0m\u001b[0;34m]\u001b[0m\u001b[0;34m,\u001b[0m\u001b[0mdata\u001b[0m\u001b[0;34m=\u001b[0m\u001b[0mnp\u001b[0m\u001b[0;34m.\u001b[0m\u001b[0marray\u001b[0m\u001b[0;34m(\u001b[0m\u001b[0;34m[\u001b[0m\u001b[0mname\u001b[0m\u001b[0;34m,\u001b[0m\u001b[0mcompany\u001b[0m\u001b[0;34m,\u001b[0m\u001b[0myear\u001b[0m\u001b[0;34m,\u001b[0m\u001b[0mkms_driven\u001b[0m\u001b[0;34m,\u001b[0m\u001b[0mfuel_type\u001b[0m\u001b[0;34m]\u001b[0m\u001b[0;34m)\u001b[0m\u001b[0;34m.\u001b[0m\u001b[0mreshape\u001b[0m\u001b[0;34m(\u001b[0m\u001b[0;36m1\u001b[0m\u001b[0;34m,\u001b[0m\u001b[0;36m5\u001b[0m\u001b[0;34m)\u001b[0m\u001b[0;34m)\u001b[0m\u001b[0;34m)\u001b[0m\u001b[0;34m\u001b[0m\u001b[0;34m\u001b[0m\u001b[0m\n\u001b[0m\u001b[1;32m      3\u001b[0m \u001b[0;31m#price_pred = price_pred.astype(float)\u001b[0m\u001b[0;34m\u001b[0m\u001b[0;34m\u001b[0m\u001b[0;34m\u001b[0m\u001b[0m\n\u001b[1;32m      4\u001b[0m \u001b[0mprint\u001b[0m\u001b[0;34m(\u001b[0m\u001b[0;34m\"-------------------------------------------------\"\u001b[0m\u001b[0;34m)\u001b[0m\u001b[0;34m\u001b[0m\u001b[0;34m\u001b[0m\u001b[0m\n\u001b[1;32m      5\u001b[0m \u001b[0mprint\u001b[0m\u001b[0;34m(\u001b[0m\u001b[0;34m\"Model             : \"\u001b[0m\u001b[0;34m,\u001b[0m\u001b[0mname\u001b[0m\u001b[0;34m)\u001b[0m\u001b[0;34m\u001b[0m\u001b[0;34m\u001b[0m\u001b[0m\n",
            "\u001b[0;31mNameError\u001b[0m: name 'name' is not defined"
          ]
        }
      ]
    }
  ]
}